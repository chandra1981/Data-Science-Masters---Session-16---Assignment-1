{
 "cells": [
  {
   "cell_type": "markdown",
   "metadata": {},
   "source": [
    "# Problem Statement 1:\n",
    "A test is conducted which is consisting of 20 MCQs (multiple choices questions) with every MCQ having its four options out of which only one is correct. Determine the probability that a person undertaking that test has answered exactly 5 questions wrong."
   ]
  },
  {
   "cell_type": "markdown",
   "metadata": {},
   "source": [
    "the formula for calculating the achievement of ‘k’ successes in ‘n’ trials is given below:\n",
    "\n",
    "P (‘k’ successes in ‘n’ trials) = C(n,k)*(s)**k *(1−s)**(n−k)\n",
    "\n",
    "C (n, k) is called the coefficient for binomial distribution or binomial coefficient. \n",
    "\n",
    "Here, n = 20, n - k = 5, k = 20 - 5 = 15\n",
    "\n",
    "Here the probability of success = probability of giving a right answer = s = 1/4\n",
    "\n",
    "Hence, the probability of failure = probability of giving a wrong answer = 1 - s \n",
    "= 1 - 1/4 = 3/4\n",
    "\n",
    "So, P (exactly 5 out of 20 answers incorrect) = C (20, 5) * (1/4)**15 * (3/4)**5\n",
    "\n",
    "P (5 out of 20) = (20∗19∗18∗17∗16)/(5∗4∗3∗2∗1) * (1/4)**15 * (3/4)**5\n",
    "\n",
    "= 0.0000034\n",
    "\n",
    "Thus the required probability is 0.0000034 approximately."
   ]
  },
  {
   "cell_type": "markdown",
   "metadata": {},
   "source": [
    "# Problem Statement 2:\n",
    "A die marked A to E is rolled 50 times. Find the probability of getting a “D” exactly 5 times."
   ]
  },
  {
   "cell_type": "markdown",
   "metadata": {},
   "source": [
    "the formula for calculating the achievement of ‘k’ successes in ‘n’ trials is given below:\n",
    "\n",
    "P (‘k’ successes in ‘n’ trials) = C(n,k)*(s)**k * (1−s)**(n−k)\n",
    "\n",
    "C (n, k) is called the coefficient for binomial distribution or binomial coefficient. \n",
    "\n",
    "Here, n = 50, k = 5, n - k = 45.\n",
    "\n",
    "The probability of success = probability of getting a “D”= s = 1/5\n",
    "\n",
    "Hence, the probability of failure = probability of not getting a “D” = 1 - s = 4/5\n",
    "\n",
    "So, P (exactly 5 D out of 50 rolls) = C (50, 5) * (1/5)**5 * (4/5)**45\n",
    "\n",
    "P (5 out of 50) = (50∗49∗48∗47∗46)/(5∗4∗3∗2∗1) * (1/5)**5 * (4/5)**45\n",
    "\n",
    "= 0.02953\n",
    "\n",
    "Thus the required probability is 0.02953 approximately."
   ]
  },
  {
   "cell_type": "markdown",
   "metadata": {},
   "source": [
    "# Problem Statement 3:\n",
    "Two balls are drawn at random in succession without replacement from an urn containing 4 red balls and 6 black balls.\n",
    "Find the probabilities of all the possible outcomes."
   ]
  },
  {
   "cell_type": "markdown",
   "metadata": {},
   "source": [
    "The probabilities of all possible outcomes:\n",
    "\n",
    "  Outcomes           Probability\n",
    "    RR  ----->  (4/10)(3/9) = 2/15\n",
    "    RB  ----->  (4/10)(6/9) = 4/15\n",
    "    BR  ----->  (6/10)(4/9) = 4/15 \n",
    "    BB  ----->  (6/10)(5/9) = 1/3\n",
    "\n",
    "The probability of 0 black balls (RR)is 2/15\n",
    "The probability of 1 black ball is (RB or BR) is 4/15+4/15 = 8/15\n",
    "The probability of 2 black balls (BB) is 1/3\n",
    "\n",
    "The sum of the probabilities = 2/15+8/15+1/3 = 1"
   ]
  },
  {
   "cell_type": "markdown",
   "metadata": {},
   "source": [
    "# END OF ASSIGNMENT "
   ]
  }
 ],
 "metadata": {
  "kernelspec": {
   "display_name": "Python 3",
   "language": "python",
   "name": "python3"
  },
  "language_info": {
   "codemirror_mode": {
    "name": "ipython",
    "version": 3
   },
   "file_extension": ".py",
   "mimetype": "text/x-python",
   "name": "python",
   "nbconvert_exporter": "python",
   "pygments_lexer": "ipython3",
   "version": "3.6.5"
  }
 },
 "nbformat": 4,
 "nbformat_minor": 2
}
